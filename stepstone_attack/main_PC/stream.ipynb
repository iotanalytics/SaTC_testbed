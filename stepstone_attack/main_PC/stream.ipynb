{
 "cells": [
  {
   "cell_type": "code",
   "execution_count": 1,
   "id": "a9e393e3",
   "metadata": {},
   "outputs": [],
   "source": [
    "import sys\n",
    "for something in sys.stdin:\n",
    "    packet = something.split()\n",
    "    time = packet[0]\n",
    "    protocol = packet[1]\n",
    "    source_MAC_Address = packet[2]\n",
    "    dst_MAC_Address = packet[3]\n",
    "    info = \"\"\n",
    "    for i in range(4, len(packet)):\n",
    "        info += \" \" + packet[i] + \" \"\n",
    "    print(time)\n",
    "    print(protocol)\n",
    "    print(source_MAC_Address)\n",
    "    print(dst_MAC_Address)\n",
    "    print(info)\n"
   ]
  },
  {
   "cell_type": "code",
   "execution_count": null,
   "id": "42048706",
   "metadata": {},
   "outputs": [],
   "source": []
  }
 ],
 "metadata": {
  "kernelspec": {
   "display_name": "Python 3",
   "language": "python",
   "name": "python3"
  },
  "language_info": {
   "codemirror_mode": {
    "name": "ipython",
    "version": 3
   },
   "file_extension": ".py",
   "mimetype": "text/x-python",
   "name": "python",
   "nbconvert_exporter": "python",
   "pygments_lexer": "ipython3",
   "version": "3.8.8"
  }
 },
 "nbformat": 4,
 "nbformat_minor": 5
}
