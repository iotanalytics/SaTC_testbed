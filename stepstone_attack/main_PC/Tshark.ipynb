{
 "cells": [
  {
   "cell_type": "code",
   "execution_count": 144,
   "id": "b2984812",
   "metadata": {
    "scrolled": true
   },
   "outputs": [
    {
     "name": "stdout",
     "output_type": "stream",
     "text": [
      "Capturing on 'wlx00c0ca5fb01e'\n",
      "^C\n",
      "Traceback (most recent call last):\n",
      "  File \"/home/sensorweb/NetworkData.py\", line 12, in <module>\n",
      "    for something in sys.stdin:\n",
      "KeyboardInterrupt\n",
      "3423 packets captured\n"
     ]
    }
   ],
   "source": [
    "! stdbuf -i0 -oL -e0 tshark -i wlx00c0ca5fb01e -q -T fields -e frame.time_relative -e _ws.col.Protocol -e eth.src -e eth.dst -e frame.len -e _ws.col.Info | python /home/sensorweb/NetworkData.py "
   ]
  },
  {
   "cell_type": "code",
   "execution_count": null,
   "id": "116f7021",
   "metadata": {},
   "outputs": [],
   "source": []
  },
  {
   "cell_type": "code",
   "execution_count": null,
   "id": "c2b6f8a2",
   "metadata": {},
   "outputs": [],
   "source": []
  }
 ],
 "metadata": {
  "kernelspec": {
   "display_name": "Python 3",
   "language": "python",
   "name": "python3"
  },
  "language_info": {
   "codemirror_mode": {
    "name": "ipython",
    "version": 3
   },
   "file_extension": ".py",
   "mimetype": "text/x-python",
   "name": "python",
   "nbconvert_exporter": "python",
   "pygments_lexer": "ipython3",
   "version": "3.8.8"
  }
 },
 "nbformat": 4,
 "nbformat_minor": 5
}
