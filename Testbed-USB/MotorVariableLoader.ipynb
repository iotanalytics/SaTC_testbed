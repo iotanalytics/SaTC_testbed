{
 "cells": [
  {
   "cell_type": "markdown",
   "metadata": {},
   "source": [
    "# FreeMASTER Lite (Motor Variable Loader)\n",
    "\n",
    "This notebook will walk you through the main steps required to establish a connection to FreeMASTER Lite and start communication with the board and load variables.\n",
    "\n",
    "**Before proceeding to code execution make sure that your setup meets the following requirements:**\n",
    "\n",
    "### Target\n",
    "\n",
    "* Embedded application includes FreeMASTER driver\n",
    "* Specified interface is configured for FreeMASTER communication\n",
    "\n",
    "### Host\n",
    "\n",
    "* FreeMASTER Lite is running (the port number should be displayed in console window)\n",
    "\n",
    "Considering the target board is connected to the host PC you are ready to go."
   ]
  },
  {
   "cell_type": "markdown",
   "metadata": {},
   "source": [
    "## Get target info\n",
    "\n",
    "FreeMASTER Lite exposes a JSON-RPC API via websocket protocol. You need to import the corresponding dependencies in order to run the code."
   ]
  },
  {
   "cell_type": "code",
   "execution_count": 1,
   "metadata": {},
   "outputs": [],
   "source": [
    "from datetime import datetime\n",
    "import usb.core\n",
    "import usb.util\n",
    "import usb.backend.libusb1\n",
    "import sys, os\n",
    "import asyncio\n",
    "\n",
    "import socket as s\n",
    "import time\n",
    "import subprocess\n",
    "import datetime\n",
    "import serial\n",
    "import serial.tools.list_ports\n",
    "\n",
    "import websockets\n",
    "from jsonrpcclient.clients.websockets_client import WebSocketsClient\n",
    "\n",
    "from pathlib import Path"
   ]
  },
  {
   "cell_type": "markdown",
   "metadata": {},
   "source": [
    "Adjust the *machine url* if you are connecting to a remote host, and/or *service_port* if it is running on a different port."
   ]
  },
  {
   "cell_type": "code",
   "execution_count": 2,
   "metadata": {},
   "outputs": [],
   "source": [
    "machine_url = '127.0.0.1'\n",
    "service_protocol = 'ws://'\n",
    "service_port = '8090'\n",
    "service_url = service_protocol + machine_url + ':' + service_port"
   ]
  },
  {
   "cell_type": "markdown",
   "metadata": {},
   "source": [
    "Service requires a connection string to establish a communication channel to the target."
   ]
  },
  {
   "cell_type": "code",
   "execution_count": 3,
   "metadata": {},
   "outputs": [
    {
     "name": "stdout",
     "output_type": "stream",
     "text": [
      "ports =  ['COM1', 'COM2', 'COM4']\n"
     ]
    }
   ],
   "source": [
    "#connection = 'RS232;port=COM9;speed=115200;tmoRI=40;tmoRTM=40;tmoRTC=50;tmoWTM=40;tmoWTC=50;'\n",
    "#connection = 'RS232;port=COM3;speed=115200;tmoRI=40;tmoRTM=40;tmoRTC=50;tmoWTM=40;tmoWTC=50;'\n",
    "#connection = 'RS232;port=COM6;speed=115200;tmoRI=40;tmoRTM=40;tmoRTC=50;tmoWTM=40;tmoWTC=50;'\n",
    "\n",
    "def getConnection():\n",
    "    #Note on USB IDs\n",
    "    #Vendor ID:\t  1357\tP&E Microcomputer Systems\n",
    "    #Device ID:   0089\tOpenSDA - CDC Serial Port\n",
    "    #Looking for \"DEVICE ID 1357:0089\" using find_class\n",
    "    venId = 0x1357\n",
    "    devId = 0x0089\n",
    "    os.environ['PYUSB_DEBUG'] = 'debug'\n",
    "    usb.core.find()\n",
    "    #print([comport.device for comport in serial.tools.list_ports.comports()])\n",
    "    ports = [comport.device for comport in serial.tools.list_ports.comports()]\n",
    "    print(\"ports = \", ports)\n",
    "    # USB serial port '/dev/ttyACM0'\n",
    "    if ports != False:\n",
    "        if str(ports[0]) != 'COM1' and str(ports[0]) != 'COM2':\n",
    "            cp = str(ports[0])\n",
    "            connection = 'RS232;port='+ cp +';speed=115200;tmoRI=40;tmoRTM=40;tmoRTC=50;tmoWTM=40;tmoWTC=50;'\n",
    "        elif str(ports[1]) != 'COM1' and str(ports[1]) != 'COM2':\n",
    "            cp = str(ports[1])\n",
    "            connection = 'RS232;port='+ cp +';speed=115200;tmoRI=40;tmoRTM=40;tmoRTC=50;tmoWTM=40;tmoWTC=50;'\n",
    "        else:\n",
    "            cp = str(ports[2])\n",
    "            connection = 'RS232;port='+ cp +';speed=115200;tmoRI=40;tmoRTM=40;tmoRTC=50;tmoWTM=40;tmoWTC=50;'\n",
    "    else:\n",
    "        print(\"Motorboard is not connected\")\n",
    "        connection =''\n",
    "    return connection\n",
    "\n",
    "connection = getConnection()\n",
    "#connection = 'RS232;port=COM3;speed=115200;tmoRI=40;tmoRTM=40;tmoRTC=50;tmoWTM=40;tmoWTC=50;'"
   ]
  },
  {
   "cell_type": "markdown",
   "metadata": {},
   "source": [
    "The function below is a helper method that will encode the command in JSON-RPC format, and send it via websocket client. Once the response is received, it will check the *success* property of the result. If its value is *true* it will return the data content, otherwise - raise an exception. "
   ]
  },
  {
   "cell_type": "code",
   "execution_count": 4,
   "metadata": {},
   "outputs": [],
   "source": [
    "async def SendRequest(jrpc, method, *args):\n",
    "    response = await jrpc.request(method, *args)\n",
    "    if response.data.result['success']:\n",
    "        return response.data.result['data']\n",
    "    else:\n",
    "        raise Exception(response.data.result['error'])"
   ]
  },
  {
   "cell_type": "markdown",
   "metadata": {},
   "source": [
    "This block connects you to the server."
   ]
  },
  {
   "cell_type": "code",
   "execution_count": 5,
   "metadata": {},
   "outputs": [],
   "source": [
    "ws = await websockets.connect(service_url)\n",
    "jrpc = WebSocketsClient(ws)"
   ]
  },
  {
   "cell_type": "markdown",
   "metadata": {},
   "source": [
    "Once you are connected, open a communication port to the target."
   ]
  },
  {
   "cell_type": "code",
   "execution_count": 6,
   "metadata": {},
   "outputs": [
    {
     "name": "stdout",
     "output_type": "stream",
     "text": [
      "Successfully connected to the target\n"
     ]
    }
   ],
   "source": [
    "await SendRequest(jrpc, 'StartComm', connection)\n",
    "print('Successfully connected to the target')"
   ]
  },
  {
   "cell_type": "markdown",
   "metadata": {},
   "source": [
    "Check if target is detected."
   ]
  },
  {
   "cell_type": "code",
   "execution_count": 7,
   "metadata": {},
   "outputs": [
    {
     "name": "stdout",
     "output_type": "stream",
     "text": [
      "Board detected\n"
     ]
    }
   ],
   "source": [
    "await SendRequest(jrpc, 'IsBoardDetected')\n",
    "print('Board detected')"
   ]
  },
  {
   "cell_type": "markdown",
   "metadata": {},
   "source": [
    "Query application version."
   ]
  },
  {
   "cell_type": "code",
   "execution_count": 8,
   "metadata": {
    "scrolled": true
   },
   "outputs": [
    {
     "name": "stdout",
     "output_type": "stream",
     "text": [
      "Detected board info:  {'protVer': 3, 'cfgFlags': 0, 'dataBusWdt': 1, 'globVerMajor': 2, 'globVerMinor': 0, 'cmdBuffSize': 60, 'recBuffSize': 2048, 'recTimeBase': 32868, 'descr': [83, 51, 50, 120, 120, 32, 70, 114, 101, 101, 77, 65, 83, 84, 69, 82, 0, 0, 0, 0, 0, 0, 0, 0, 0]}\n"
     ]
    }
   ],
   "source": [
    "data = await SendRequest(jrpc, 'GetDetectedBoardInfo') # doesn't work\n",
    "print('Detected board info: ', data)"
   ]
  },
  {
   "cell_type": "markdown",
   "metadata": {},
   "source": [
    "Query application name."
   ]
  },
  {
   "cell_type": "code",
   "execution_count": 9,
   "metadata": {},
   "outputs": [
    {
     "name": "stdout",
     "output_type": "stream",
     "text": [
      "GetAppVersion:  FreeMASTER Lite 1.1 RTM Update 3\n"
     ]
    }
   ],
   "source": [
    "data = await SendRequest(jrpc, 'GetAppVersion') #works\n",
    "print('GetAppVersion: ',data)"
   ]
  },
  {
   "cell_type": "markdown",
   "metadata": {},
   "source": [
    "## Create Varibles and Write to Motorboard"
   ]
  },
  {
   "cell_type": "markdown",
   "metadata": {},
   "source": [
    "Read and parse TSA table."
   ]
  },
  {
   "cell_type": "code",
   "execution_count": 10,
   "metadata": {},
   "outputs": [
    {
     "name": "stdout",
     "output_type": "stream",
     "text": [
      "Parsed TSA contained 342 symbols.\n"
     ]
    }
   ],
   "source": [
    "data = await SendRequest(jrpc, 'ReadTSA')\n",
    "print('Parsed TSA contained ' + str(data['count']) + ' symbols.')\n",
    "global count\n",
    "count = int(data['count'])"
   ]
  },
  {
   "cell_type": "markdown",
   "metadata": {},
   "source": [
    "Display found symbols."
   ]
  },
  {
   "cell_type": "code",
   "execution_count": 11,
   "metadata": {},
   "outputs": [
    {
     "name": "stdout",
     "output_type": "stream",
     "text": [
      "CL_SpeedRampDec\n",
      "CL_SpeedRampInc\n",
      "FW_IntegGainControl\n",
      "FW_PropGainControl\n",
      "OL_SpeedRampInc\n",
      "UDQVectorSum\n",
      "cntrState\n",
      "cntrState.event\n",
      "cntrState.loadDefSetting\n",
      "cntrState.state\n",
      "cntrState.usrControl\n",
      "cntrState.usrControl.FOCcontrolMode\n",
      "cntrState.usrControl.btFlipFlop\n",
      "cntrState.usrControl.btFlipFlopTemp\n",
      "cntrState.usrControl.btSpeedDown\n",
      "cntrState.usrControl.btSpeedUp\n",
      "cntrState.usrControl.cntAppOff\n",
      "cntrState.usrControl.cntSpeedDown\n",
      "cntrState.usrControl.cntSpeedUp\n",
      "cntrState.usrControl.controlMode\n",
      "cntrState.usrControl.ledCounter\n",
      "cntrState.usrControl.ledFlashing\n",
      "cntrState.usrControl.readFault\n",
      "cntrState.usrControl.switchAppOnOff\n",
      "cntrState.usrControl.switchAppOnOffState\n",
      "cntrState.usrControl.switchAppReset\n",
      "cntrState.usrControl.switchFaultClear\n",
      "drvFOC\n",
      "drvFOC.AlBeReqDCBLim\n",
      "drvFOC.CurrentLoop\n",
      "drvFOC.CurrentLoop.pIDQFbck\n",
      "drvFOC.CurrentLoop.pIDQReq\n",
      "drvFOC.CurrentLoop.pPIrAWD\n",
      "drvFOC.CurrentLoop.pPIrAWD.fltAcc\n",
      "drvFOC.CurrentLoop.pPIrAWD.fltCC1sc\n",
      "drvFOC.CurrentLoop.pPIrAWD.fltCC2sc\n",
      "drvFOC.CurrentLoop.pPIrAWD.fltInErrK1\n",
      "drvFOC.CurrentLoop.pPIrAWD.fltLowerLimit\n",
      "drvFOC.CurrentLoop.pPIrAWD.fltUpperLimit\n",
      "drvFOC.CurrentLoop.pPIrAWQ\n",
      "drvFOC.CurrentLoop.pPIrAWQ.fltAcc\n",
      "drvFOC.CurrentLoop.pPIrAWQ.fltCC1sc\n",
      "drvFOC.CurrentLoop.pPIrAWQ.fltCC2sc\n",
      "drvFOC.CurrentLoop.pPIrAWQ.fltInErrK1\n",
      "drvFOC.CurrentLoop.pPIrAWQ.fltLowerLimit\n",
      "drvFOC.CurrentLoop.pPIrAWQ.fltUpperLimit\n",
      "drvFOC.FwSpeedLoop\n",
      "drvFOC.FwSpeedLoop.fltUmaxDivImax\n",
      "drvFOC.FwSpeedLoop.pFilterFW\n",
      "drvFOC.FwSpeedLoop.pFilterFW.fltAcc\n",
      "drvFOC.FwSpeedLoop.pFilterFW.fltLambda\n",
      "drvFOC.FwSpeedLoop.pFilterW\n",
      "drvFOC.FwSpeedLoop.pFilterW.fltAcc\n",
      "drvFOC.FwSpeedLoop.pFilterW.fltLambda\n",
      "drvFOC.FwSpeedLoop.pIQFbck\n",
      "drvFOC.FwSpeedLoop.pPIpAWFW\n",
      "drvFOC.FwSpeedLoop.pPIpAWFW.fltInK_1\n",
      "drvFOC.FwSpeedLoop.pPIpAWFW.fltIntegGain\n",
      "drvFOC.FwSpeedLoop.pPIpAWFW.fltIntegPartK_1\n",
      "drvFOC.FwSpeedLoop.pPIpAWFW.fltLowerLimit\n",
      "drvFOC.FwSpeedLoop.pPIpAWFW.fltPropGain\n",
      "drvFOC.FwSpeedLoop.pPIpAWFW.fltUpperLimit\n",
      "drvFOC.FwSpeedLoop.pPIpAWFW.u16LimitFlag\n",
      "drvFOC.FwSpeedLoop.pPIpAWQ\n",
      "drvFOC.FwSpeedLoop.pPIpAWQ.fltInK_1\n",
      "drvFOC.FwSpeedLoop.pPIpAWQ.fltIntegGain\n",
      "drvFOC.FwSpeedLoop.pPIpAWQ.fltIntegPartK_1\n",
      "drvFOC.FwSpeedLoop.pPIpAWQ.fltLowerLimit\n",
      "drvFOC.FwSpeedLoop.pPIpAWQ.fltPropGain\n",
      "drvFOC.FwSpeedLoop.pPIpAWQ.fltUpperLimit\n",
      "drvFOC.FwSpeedLoop.pPIpAWQ.u16LimitFlag\n",
      "drvFOC.FwSpeedLoop.pRamp\n",
      "drvFOC.FwSpeedLoop.pRamp.fltRampDown\n",
      "drvFOC.FwSpeedLoop.pRamp.fltRampUp\n",
      "drvFOC.FwSpeedLoop.pRamp.fltState\n",
      "drvFOC.FwSpeedLoop.pUQLim\n",
      "drvFOC.FwSpeedLoop.pUQReq\n",
      "drvFOC.alignCntr\n",
      "drvFOC.alignVoltage\n",
      "drvFOC.elimDcbRip\n",
      "drvFOC.elimDcbRip.fltArgDcBusMsr\n",
      "drvFOC.elimDcbRip.fltModIndex\n",
      "drvFOC.fltUdcb\n",
      "drvFOC.iAbcFbck\n",
      "drvFOC.iAbcFbck.fltArg1\n",
      "drvFOC.iAbcFbck.fltArg2\n",
      "drvFOC.iAbcFbck.fltArg3\n",
      "drvFOC.iAlBeFbck\n",
      "drvFOC.iAlBeFbck.fltArg1\n",
      "drvFOC.iAlBeFbck.fltArg2\n",
      "drvFOC.iDQFbck\n",
      "drvFOC.iDQFbck.fltArg1\n",
      "drvFOC.iDQFbck.fltArg2\n",
      "drvFOC.iDQReqInLoop\n",
      "drvFOC.iDQReqInLoop.fltArg1\n",
      "drvFOC.iDQReqInLoop.fltArg2\n",
      "drvFOC.iDQReqOutLoop\n",
      "drvFOC.iDQReqOutLoop.fltArg1\n",
      "drvFOC.iDQReqOutLoop.fltArg2\n",
      "drvFOC.pospeControl\n",
      "drvFOC.pospeControl.speedLoopCntr\n",
      "drvFOC.pospeControl.thRotEl\n",
      "drvFOC.pospeControl.thRotElEnc\n",
      "drvFOC.pospeControl.thRotElEncErr\n",
      "drvFOC.pospeControl.thRotElEnck1\n",
      "drvFOC.pospeControl.wRotEl\n",
      "drvFOC.pospeControl.wRotElEnc\n",
      "drvFOC.pospeControl.wRotElErr\n",
      "drvFOC.pospeControl.wRotElFilt\n",
      "drvFOC.pospeControl.wRotElReq\n",
      "drvFOC.pospeOpenLoop\n",
      "drvFOC.pospeOpenLoop.iQLowerLimit\n",
      "drvFOC.pospeOpenLoop.iQUpperLimit\n",
      "drvFOC.pospeOpenLoop.integ\n",
      "drvFOC.pospeOpenLoop.integ.f32C1\n",
      "drvFOC.pospeOpenLoop.integ.f32InK1\n",
      "drvFOC.pospeOpenLoop.integ.f32State\n",
      "drvFOC.pospeOpenLoop.integ.u16NShift\n",
      "drvFOC.pospeOpenLoop.thDifOpenLEstim\n",
      "drvFOC.pospeOpenLoop.thRotEl\n",
      "drvFOC.pospeOpenLoop.wRotEl\n",
      "drvFOC.pospeSensorless\n",
      "drvFOC.pospeSensorless.DQtoGaDeError\n",
      "drvFOC.pospeSensorless.TrackObsrv\n",
      "drvFOC.pospeSensorless.TrackObsrv.pParamInteg\n",
      "drvFOC.pospeSensorless.TrackObsrv.pParamInteg.fltC1\n",
      "drvFOC.pospeSensorless.TrackObsrv.pParamInteg.fltInK1\n",
      "drvFOC.pospeSensorless.TrackObsrv.pParamInteg.fltState\n",
      "drvFOC.pospeSensorless.TrackObsrv.pParamPI\n",
      "drvFOC.pospeSensorless.TrackObsrv.pParamPI.fltAcc\n",
      "drvFOC.pospeSensorless.TrackObsrv.pParamPI.fltCC1sc\n",
      "drvFOC.pospeSensorless.TrackObsrv.pParamPI.fltCC2sc\n",
      "drvFOC.pospeSensorless.TrackObsrv.pParamPI.fltInErrK1\n",
      "drvFOC.pospeSensorless.TrackObsrv.pParamPI.fltLowerLimit\n",
      "drvFOC.pospeSensorless.TrackObsrv.pParamPI.fltUpperLimit\n",
      "drvFOC.pospeSensorless.bEMFObs\n",
      "drvFOC.pospeSensorless.bEMFObs.fltEGain\n",
      "drvFOC.pospeSensorless.bEMFObs.fltIGain\n",
      "drvFOC.pospeSensorless.bEMFObs.fltUGain\n",
      "drvFOC.pospeSensorless.bEMFObs.fltWIGain\n",
      "drvFOC.pospeSensorless.bEMFObs.pEObsrv\n",
      "drvFOC.pospeSensorless.bEMFObs.pEObsrv.fltArg1\n",
      "drvFOC.pospeSensorless.bEMFObs.pEObsrv.fltArg2\n",
      "drvFOC.pospeSensorless.bEMFObs.pIObsrv\n",
      "drvFOC.pospeSensorless.bEMFObs.pIObsrv.fltArg1\n",
      "drvFOC.pospeSensorless.bEMFObs.pIObsrv.fltArg2\n",
      "drvFOC.pospeSensorless.bEMFObs.pIObsrvIn_1\n",
      "drvFOC.pospeSensorless.bEMFObs.pIObsrvIn_1.fltArg1\n",
      "drvFOC.pospeSensorless.bEMFObs.pIObsrvIn_1.fltArg2\n",
      "drvFOC.pospeSensorless.bEMFObs.pParamD\n",
      "drvFOC.pospeSensorless.bEMFObs.pParamD.fltAcc\n",
      "drvFOC.pospeSensorless.bEMFObs.pParamD.fltCC1sc\n",
      "drvFOC.pospeSensorless.bEMFObs.pParamD.fltCC2sc\n",
      "drvFOC.pospeSensorless.bEMFObs.pParamD.fltInErrK1\n",
      "drvFOC.pospeSensorless.bEMFObs.pParamD.fltLowerLimit\n",
      "drvFOC.pospeSensorless.bEMFObs.pParamD.fltUpperLimit\n",
      "drvFOC.pospeSensorless.bEMFObs.pParamQ\n",
      "drvFOC.pospeSensorless.bEMFObs.pParamQ.fltAcc\n",
      "drvFOC.pospeSensorless.bEMFObs.pParamQ.fltCC1sc\n",
      "drvFOC.pospeSensorless.bEMFObs.pParamQ.fltCC2sc\n",
      "drvFOC.pospeSensorless.bEMFObs.pParamQ.fltInErrK1\n",
      "drvFOC.pospeSensorless.bEMFObs.pParamQ.fltLowerLimit\n",
      "drvFOC.pospeSensorless.bEMFObs.pParamQ.fltUpperLimit\n",
      "drvFOC.pospeSensorless.iQLowerLimit\n",
      "drvFOC.pospeSensorless.iQUpperLimit\n",
      "drvFOC.pospeSensorless.sensorlessCnt\n",
      "drvFOC.pospeSensorless.thRotEl\n",
      "drvFOC.pospeSensorless.wRotEl\n",
      "drvFOC.pospeSensorless.wRotElMatch_1\n",
      "drvFOC.pospeSensorless.wRotElMatch_2\n",
      "drvFOC.pwmflt\n",
      "drvFOC.pwmflt.fltArg1\n",
      "drvFOC.pwmflt.fltArg2\n",
      "drvFOC.pwmflt.fltArg3\n",
      "drvFOC.scalarControl\n",
      "drvFOC.scalarControl.UmReq\n",
      "drvFOC.scalarControl.VHzRatioReq\n",
      "drvFOC.scalarControl.VHzRatioReq_Shift\n",
      "drvFOC.svmSector\n",
      "drvFOC.thTransform\n",
      "drvFOC.thTransform.fltArg1\n",
      "drvFOC.thTransform.fltArg2\n",
      "drvFOC.uAlBEReqDCBTest\n",
      "drvFOC.uAlBEReqDCBTest.fltArg1\n",
      "drvFOC.uAlBEReqDCBTest.fltArg2\n",
      "drvFOC.uAlBeReq\n",
      "drvFOC.uAlBeReq.fltArg1\n",
      "drvFOC.uAlBeReq.fltArg2\n",
      "drvFOC.uAlBeReqDCB\n",
      "drvFOC.uAlBeReqDCB.fltArg1\n",
      "drvFOC.uAlBeReqDCB.fltArg2\n",
      "drvFOC.uAlBeReqDCBLim\n",
      "drvFOC.uAlBeReqDCBLim.fltArg1\n",
      "drvFOC.uAlBeReqDCBLim.fltArg2\n",
      "drvFOC.uDQReq\n",
      "drvFOC.uDQReq.fltArg1\n",
      "drvFOC.uDQReq.fltArg2\n",
      "drvFOC.uDcbFilter\n",
      "drvFOC.uDcbFilter.fltAcc\n",
      "drvFOC.uDcbFilter.fltLambda\n",
      "encoderPospe\n",
      "encoderPospe.TrackObsrv\n",
      "encoderPospe.TrackObsrv.pParamInteg\n",
      "encoderPospe.TrackObsrv.pParamInteg.fltC1\n",
      "encoderPospe.TrackObsrv.pParamInteg.fltInK1\n",
      "encoderPospe.TrackObsrv.pParamInteg.fltState\n",
      "encoderPospe.TrackObsrv.pParamPI\n",
      "encoderPospe.TrackObsrv.pParamPI.fltAcc\n",
      "encoderPospe.TrackObsrv.pParamPI.fltCC1sc\n",
      "encoderPospe.TrackObsrv.pParamPI.fltCC2sc\n",
      "encoderPospe.TrackObsrv.pParamPI.fltInErrK1\n",
      "encoderPospe.TrackObsrv.pParamPI.fltLowerLimit\n",
      "encoderPospe.TrackObsrv.pParamPI.fltUpperLimit\n",
      "encoderPospe.fltMotorPP\n",
      "encoderPospe.ftmCntValue\n",
      "encoderPospe.ftmModValue\n",
      "encoderPospe.s16MotorPpScaleShift\n",
      "encoderPospe.s32MotorPpScale\n",
      "encoderPospe.thRoErr\n",
      "encoderPospe.thRotEl\n",
      "encoderPospe.thRotEl.filt\n",
      "encoderPospe.thRotEl.raw\n",
      "encoderPospe.thRotElCos\n",
      "encoderPospe.thRotElCos.filt\n",
      "encoderPospe.thRotElCos.raw\n",
      "encoderPospe.thRotElSin\n",
      "encoderPospe.thRotElSin.filt\n",
      "encoderPospe.thRotElSin.raw\n",
      "encoderPospe.thRotElk1\n",
      "encoderPospe.thRotElk1.filt\n",
      "encoderPospe.thRotElk1.raw\n",
      "encoderPospe.thRotMec\n",
      "encoderPospe.thRotMecCos\n",
      "encoderPospe.thRotMecCos.filt\n",
      "encoderPospe.thRotMecCos.raw\n",
      "encoderPospe.thRotMecSin\n",
      "encoderPospe.thRotMecSin.filt\n",
      "encoderPospe.thRotMecSin.raw\n",
      "encoderPospe.wRotEl\n",
      "encoderPospe.wRotEl.filt\n",
      "encoderPospe.wRotEl.raw\n",
      "encoderPospe.wRotMec\n",
      "encoderPospe.wRotMec.filt\n",
      "encoderPospe.wRotMec.raw\n",
      "fieldWeakOnOff\n",
      "fmScale\n",
      "fmScale.position\n",
      "fmScale.speed_n_m\n",
      "fmScale.speed_ramp\n",
      "fmScale.speed_w_e\n",
      "gd3000Status\n",
      "gd3000Status.R\n",
      "meas\n",
      "meas.calibCntr\n",
      "meas.flag\n",
      "meas.flag.R\n",
      "meas.measured\n",
      "meas.measured.fltPhA\n",
      "meas.measured.fltPhA.filt\n",
      "meas.measured.fltPhA.raw\n",
      "meas.measured.fltPhB\n",
      "meas.measured.fltPhB.filt\n",
      "meas.measured.fltPhB.raw\n",
      "meas.measured.fltPhC\n",
      "meas.measured.fltPhC.filt\n",
      "meas.measured.fltPhC.raw\n",
      "meas.measured.fltTemp\n",
      "meas.measured.fltTemp.filt\n",
      "meas.measured.fltTemp.raw\n",
      "meas.measured.fltUdcb\n",
      "meas.measured.fltUdcb.filt\n",
      "meas.measured.fltUdcb.raw\n",
      "meas.offset\n",
      "meas.offset.fltPhA\n",
      "meas.offset.fltPhA.filtParam\n",
      "meas.offset.fltPhA.filtParam.fltAcc\n",
      "meas.offset.fltPhA.filtParam.fltLambda\n",
      "meas.offset.fltPhA.fltOffset\n",
      "meas.offset.fltPhB\n",
      "meas.offset.fltPhB.filtParam\n",
      "meas.offset.fltPhB.filtParam.fltAcc\n",
      "meas.offset.fltPhB.filtParam.fltLambda\n",
      "meas.offset.fltPhB.fltOffset\n",
      "meas.offset.fltPhC\n",
      "meas.offset.fltPhC.filtParam\n",
      "meas.offset.fltPhC.filtParam.fltAcc\n",
      "meas.offset.fltPhC.filtParam.fltLambda\n",
      "meas.offset.fltPhC.fltOffset\n",
      "meas.offset.fltTemp\n",
      "meas.offset.fltTemp.filtParam\n",
      "meas.offset.fltTemp.filtParam.fltAcc\n",
      "meas.offset.fltTemp.filtParam.fltLambda\n",
      "meas.offset.fltTemp.fltOffset\n",
      "meas.offset.fltUdcb\n",
      "meas.offset.fltUdcb.filtParam\n",
      "meas.offset.fltUdcb.filtParam.fltAcc\n",
      "meas.offset.fltUdcb.filtParam.fltLambda\n",
      "meas.offset.fltUdcb.fltOffset\n",
      "meas.param\n",
      "meas.param.u16CalibSamples\n",
      "pdbStatus\n",
      "pdbStatus.PDB0_SeqErrCounter\n",
      "pdbStatus.PDB0_SeqErrFlags\n"
     ]
    },
    {
     "name": "stdout",
     "output_type": "stream",
     "text": [
      "pdbStatus.PDB1_SeqErrCounter\n",
      "pdbStatus.PDB1_SeqErrFlags\n",
      "permFaults\n",
      "permFaults.gd3000\n",
      "permFaults.mcu\n",
      "permFaults.mcu.R\n",
      "permFaults.motor\n",
      "permFaults.motor.R\n",
      "permFaults.stateMachine\n",
      "permFaults.stateMachine.R\n",
      "pos_mode\n",
      "switchSensor\n",
      "tempfaults\n",
      "tempfaults.gd3000\n",
      "tempfaults.mcu\n",
      "tempfaults.mcu.R\n",
      "tempfaults.motor\n",
      "tempfaults.motor.R\n",
      "tempfaults.stateMachine\n",
      "tempfaults.stateMachine.R\n",
      "tppDrvConfig\n",
      "tppDrvConfig.csPinIndex\n",
      "tppDrvConfig.csPinInstance\n",
      "tppDrvConfig.deviceConfig\n",
      "tppDrvConfig.deviceConfig.deadtime\n",
      "tppDrvConfig.deviceConfig.intMask0\n",
      "tppDrvConfig.deviceConfig.intMask1\n",
      "tppDrvConfig.deviceConfig.modeMask\n",
      "tppDrvConfig.deviceConfig.opMode\n",
      "tppDrvConfig.deviceConfig.statusRegister\n",
      "tppDrvConfig.deviceConfig.statusRegister[0]\n",
      "tppDrvConfig.en1PinIndex\n",
      "tppDrvConfig.en1PinInstance\n",
      "tppDrvConfig.en2PinIndex\n",
      "tppDrvConfig.en2PinInstance\n",
      "tppDrvConfig.rstPinIndex\n",
      "tppDrvConfig.rstPinInstance\n",
      "tppDrvConfig.spiInstance\n",
      "tppDrvConfig.spiTppConfig\n"
     ]
    }
   ],
   "source": [
    "for i in range(count):\n",
    "    data = await SendRequest(jrpc, 'EnumSymbols', i)\n",
    "    print(data)"
   ]
  },
  {
   "cell_type": "markdown",
   "metadata": {},
   "source": [
    "Next define variables based one of the symbols."
   ]
  },
  {
   "cell_type": "code",
   "execution_count": 12,
   "metadata": {},
   "outputs": [
    {
     "name": "stdout",
     "output_type": "stream",
     "text": [
      "Variable defined successfully.\n"
     ]
    }
   ],
   "source": [
    "global variable\n",
    "speedRequired = {\n",
    "    \"name\": \"Speed Required\", \n",
    "    \"addr\": \"drvFOC.pospeControl.wRotElReq\", \n",
    "    \"size\": 4, \n",
    "    \"type\": \"float\"\n",
    "}\n",
    "await SendRequest(jrpc, 'DefineVariable', speedRequired)\n",
    "print('Variable defined successfully.')"
   ]
  },
  {
   "cell_type": "code",
   "execution_count": 13,
   "metadata": {},
   "outputs": [
    {
     "name": "stdout",
     "output_type": "stream",
     "text": [
      "Variable defined successfully.\n"
     ]
    }
   ],
   "source": [
    "global variable\n",
    "appOnOff = {\n",
    "      \"name\": \"On/Off\",\n",
    "      \"addr\": \"cntrState.usrControl.switchAppOnOff\",\n",
    "      \"size\": 1,\n",
    "      \"type\": \"uint\"\n",
    "    }\n",
    "await SendRequest(jrpc, 'DefineVariable', appOnOff)\n",
    "print('Variable defined successfully.')"
   ]
  },
  {
   "cell_type": "code",
   "execution_count": 14,
   "metadata": {},
   "outputs": [
    {
     "name": "stdout",
     "output_type": "stream",
     "text": [
      "Variable defined successfully.\n"
     ]
    }
   ],
   "source": [
    "global variable\n",
    "Mode = {\n",
    "      \"name\": \"Mode\",\n",
    "      \"addr\": \"cntrState.usrControl.controlMode\",\n",
    "      \"size\": 1,\n",
    "      \"type\": \"uint\"\n",
    "    }\n",
    "await SendRequest(jrpc, 'DefineVariable', Mode)\n",
    "print('Variable defined successfully.')"
   ]
  },
  {
   "cell_type": "code",
   "execution_count": 15,
   "metadata": {},
   "outputs": [
    {
     "name": "stdout",
     "output_type": "stream",
     "text": [
      "Variable defined successfully.\n"
     ]
    }
   ],
   "source": [
    "global variable\n",
    "clearFaults =  {\n",
    "      \"name\": \"Clear Faults\",\n",
    "      \"addr\": \"cntrState.usrControl.switchFaultClear\",\n",
    "      \"size\": 1,\n",
    "      \"type\": \"uint\"\n",
    "    }\n",
    "await SendRequest(jrpc, 'DefineVariable', clearFaults)\n",
    "print('Variable defined successfully.')"
   ]
  },
  {
   "cell_type": "code",
   "execution_count": 16,
   "metadata": {},
   "outputs": [
    {
     "name": "stdout",
     "output_type": "stream",
     "text": [
      "Communication stopped\n"
     ]
    }
   ],
   "source": [
    "response = await SendRequest(jrpc, 'StopComm')\n",
    "print('Communication stopped')"
   ]
  },
  {
   "cell_type": "markdown",
   "metadata": {},
   "source": [
    "End of Code"
   ]
  },
  {
   "cell_type": "code",
   "execution_count": null,
   "metadata": {},
   "outputs": [],
   "source": []
  },
  {
   "cell_type": "code",
   "execution_count": null,
   "metadata": {},
   "outputs": [],
   "source": []
  }
 ],
 "metadata": {
  "kernelspec": {
   "display_name": "Python 3 (ipykernel)",
   "language": "python",
   "name": "python3"
  },
  "language_info": {
   "codemirror_mode": {
    "name": "ipython",
    "version": 3
   },
   "file_extension": ".py",
   "mimetype": "text/x-python",
   "name": "python",
   "nbconvert_exporter": "python",
   "pygments_lexer": "ipython3",
   "version": "3.8.8"
  }
 },
 "nbformat": 4,
 "nbformat_minor": 2
}
